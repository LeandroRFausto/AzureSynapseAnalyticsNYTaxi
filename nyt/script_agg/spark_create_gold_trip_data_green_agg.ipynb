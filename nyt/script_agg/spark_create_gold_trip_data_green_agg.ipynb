{
  "cells": [
    {
      "cell_type": "markdown",
      "metadata": {
        "nteract": {
          "transient": {
            "deleting": false
          }
        }
      },
      "source": [
        "# Trip Data Aggregation\n",
        "## Agrupar por colunas\n",
        "1. year\n",
        "2. mounth\n",
        "3. pickup location ID\n",
        "4. drop off location ID\n",
        "\n",
        "## Agregar as colunas\n",
        "1. total trip count\n",
        "2. total fare amount\n",
        "\n",
        "## Propósito do notebook\n",
        "\n",
        "#### Demonstrar a integração entre Spark pool e o Serverless SQL pool\n",
        "1. criar tabela agregada no Spark pool\n",
        "2. acessar o dados via Serverless SQL pool "
      ]
    },
    {
      "cell_type": "code",
      "execution_count": 1,
      "metadata": {
        "jupyter": {
          "outputs_hidden": false,
          "source_hidden": false
        },
        "nteract": {
          "transient": {
            "deleting": false
          }
        }
      },
      "outputs": [
        {
          "data": {
            "application/vnd.livy.statement-meta+json": {
              "execution_finish_time": null,
              "execution_start_time": null,
              "livy_statement_state": null,
              "queued_time": "2022-09-16T13:02:59.7074854Z",
              "session_id": null,
              "session_start_time": "2022-09-16T13:02:59.7746166Z",
              "spark_jobs": null,
              "spark_pool": null,
              "state": "session_error",
              "statement_id": null
            },
            "text/plain": [
              "StatementMeta(, , , SessionError, )"
            ]
          },
          "metadata": {},
          "output_type": "display_data"
        },
        {
          "ename": "InvalidHttpRequestToLivy",
          "evalue": "Your Spark job requested 12 vcores. However, the workspace has a 0 core limit. Try reducing the numbers of vcores requested or increasing your vcore quota. HTTP status code: 400. Trace ID: 317993a8-dd3a-464a-b271-703cf676c279.",
          "output_type": "error",
          "traceback": [
            "InvalidHttpRequestToLivy: Your Spark job requested 12 vcores. However, the workspace has a 0 core limit. Try reducing the numbers of vcores requested or increasing your vcore quota. HTTP status code: 400. Trace ID: 317993a8-dd3a-464a-b271-703cf676c279."
          ]
        }
      ],
      "source": [
        "#Define o caminho das pastas. \n",
        "bronze_folder_path = 'abfss://nyt-data@synapsenytdl.dfs.core.windows.net/raw'\n",
        "silver_folder_path = 'abfss://nyt-data@synapsenytdl.dfs.core.windows.net/silver'\n",
        "gold_folder_path = 'abfss://nyt-data@synapsenytdl.dfs.core.windows.net/gold'"
      ]
    },
    {
      "cell_type": "code",
      "execution_count": null,
      "metadata": {
        "jupyter": {
          "outputs_hidden": false,
          "source_hidden": false
        },
        "nteract": {
          "transient": {
            "deleting": false
          }
        }
      },
      "outputs": [
        {
          "data": {
            "application/vnd.livy.statement-meta+json": {
              "execution_finish_time": "2022-09-15T17:14:37.899911Z",
              "execution_start_time": null,
              "livy_statement_state": null,
              "queued_time": "2022-09-15T17:14:37.7898345Z",
              "session_id": null,
              "session_start_time": null,
              "spark_jobs": null,
              "spark_pool": null,
              "state": "cancelled",
              "statement_id": null
            },
            "text/plain": [
              "StatementMeta(, , , Cancelled, )"
            ]
          },
          "metadata": {},
          "output_type": "display_data"
        }
      ],
      "source": [
        "#Define a configuração do spark para obter as colunas particionadas ano e mês como strings em vez de inteiros\n",
        "spark.conf.set(\"spark.sql.sources.partitionColumnTypeInference.enabled\", \"false\")"
      ]
    },
    {
      "cell_type": "code",
      "execution_count": null,
      "metadata": {
        "collapsed": false,
        "jupyter": {
          "outputs_hidden": false,
          "source_hidden": false
        },
        "microsoft": {
          "language": "sparksql"
        },
        "nteract": {
          "transient": {
            "deleting": false
          }
        }
      },
      "outputs": [
        {
          "data": {
            "application/vnd.livy.statement-meta+json": {
              "execution_finish_time": "2022-09-15T17:14:37.9003855Z",
              "execution_start_time": null,
              "livy_statement_state": null,
              "queued_time": "2022-09-15T17:14:37.8368612Z",
              "session_id": null,
              "session_start_time": null,
              "spark_jobs": null,
              "spark_pool": null,
              "state": "cancelled",
              "statement_id": null
            },
            "text/plain": [
              "StatementMeta(, , , Cancelled, )"
            ]
          },
          "metadata": {},
          "output_type": "display_data"
        }
      ],
      "source": [
        "%sql\n",
        "-- Cria a base\n",
        "\n",
        "CREATE DATABASE IF NOT EXISTS nyc_taxi_ldw_spark\n",
        "LOCATION 'nyt-data@synapsenytdl.dfs.core.windows.net/gold';"
      ]
    },
    {
      "cell_type": "code",
      "execution_count": null,
      "metadata": {
        "jupyter": {
          "outputs_hidden": false,
          "source_hidden": false
        },
        "nteract": {
          "transient": {
            "deleting": false
          }
        }
      },
      "outputs": [
        {
          "data": {
            "application/vnd.livy.statement-meta+json": {
              "execution_finish_time": "2022-09-15T17:14:37.9008657Z",
              "execution_start_time": null,
              "livy_statement_state": null,
              "queued_time": "2022-09-15T17:14:37.8758864Z",
              "session_id": null,
              "session_start_time": null,
              "spark_jobs": null,
              "spark_pool": null,
              "state": "cancelled",
              "statement_id": null
            },
            "text/plain": [
              "StatementMeta(, , , Cancelled, )"
            ]
          },
          "metadata": {},
          "output_type": "display_data"
        }
      ],
      "source": [
        "# Lê os dados \"prata\" a serem processados\n",
        "trip_data_green_df = spark.read.parquet(f\"{silver_folder_path}/trip_data_green\") "
      ]
    },
    {
      "cell_type": "code",
      "execution_count": null,
      "metadata": {
        "jupyter": {
          "outputs_hidden": false,
          "source_hidden": false
        },
        "nteract": {
          "transient": {
            "deleting": false
          }
        }
      },
      "outputs": [],
      "source": [
        "# Executa as agregações necessárias\n",
        "# 1. Conta o total de viagens\n",
        "# 2. Mostra o valor total da tarifa\n",
        "from pyspark.sql.functions import *\n",
        "\n",
        "trip_data_green_agg_df = trip_data_green_df \\\n",
        "                        .groupBy(\"year\", \"month\", \"pu_location_id\", \"do_location_id\") \\\n",
        "                        .agg(count(lit(1)).alias(\"total_trip_count\"),\n",
        "                        round(sum(\"fare_amount\"), 2).alias(\"total_fare_amount\"))"
      ]
    },
    {
      "cell_type": "code",
      "execution_count": null,
      "metadata": {
        "jupyter": {
          "outputs_hidden": false,
          "source_hidden": false
        },
        "nteract": {
          "transient": {
            "deleting": false
          }
        }
      },
      "outputs": [],
      "source": [
        "# Grava os dados agregados na tabela \"ouro\" para consumo\n",
        "\n",
        "trip_data_green_agg_df.write.mode(\"overwrite\").partitionBy(\"year\", \"month\").format(\"parquet\").saveAsTable(\"nyt_ldw_spark.trip_data_green_agg\")"
      ]
    }
  ],
  "metadata": {
    "description": null,
    "kernel_info": {
      "name": "synapse_pyspark"
    },
    "kernelspec": {
      "display_name": "Synapse PySpark",
      "language": "Python",
      "name": "synapse_pyspark"
    },
    "language_info": {
      "name": "python"
    },
    "save_output": true,
    "synapse_widget": {
      "state": {},
      "version": "0.1"
    }
  },
  "nbformat": 4,
  "nbformat_minor": 2
}
